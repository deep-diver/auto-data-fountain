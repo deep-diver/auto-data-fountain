{
  "nbformat": 4,
  "nbformat_minor": 0,
  "metadata": {
    "colab": {
      "provenance": [],
      "authorship_tag": "ABX9TyNCZ3rTA32fIh2v1B3uQYI1",
      "include_colab_link": true
    },
    "kernelspec": {
      "name": "python3",
      "display_name": "Python 3"
    },
    "language_info": {
      "name": "python"
    }
  },
  "cells": [
    {
      "cell_type": "markdown",
      "metadata": {
        "id": "view-in-github",
        "colab_type": "text"
      },
      "source": [
        "<a href=\"https://colab.research.google.com/github/deep-diver/auto-data-fountain/blob/main/notebooks/pilot.ipynb\" target=\"_parent\"><img src=\"https://colab.research.google.com/assets/colab-badge.svg\" alt=\"Open In Colab\"/></a>"
      ]
    },
    {
      "cell_type": "code",
      "execution_count": null,
      "metadata": {
        "id": "AxHXwPTziL8H"
      },
      "outputs": [],
      "source": [
        "!pip install google-generativeai\n",
        "!pip install pyyaml"
      ]
    },
    {
      "cell_type": "code",
      "source": [
        "GEMINI_API_KEY=\"...\""
      ],
      "metadata": {
        "id": "21qkYKNpiSEz"
      },
      "execution_count": 7,
      "outputs": []
    },
    {
      "cell_type": "code",
      "source": [
        "%%writefile counsel.yaml\n",
        "\n",
        "base_person: &base\n",
        "  name: John Doe\n",
        "  age: 30\n",
        "\n",
        "counselor:\n",
        "  <<: *base\n",
        "  specialization: Psychology\n",
        "\n",
        "counselee:\n",
        "  <<: *base\n",
        "  primary_concern: Anxiety"
      ],
      "metadata": {
        "colab": {
          "base_uri": "https://localhost:8080/"
        },
        "id": "j9ZJpjDKiSfb",
        "outputId": "be3ed47e-5280-4c0b-c91e-5edda3a29c18"
      },
      "execution_count": 1,
      "outputs": [
        {
          "output_type": "stream",
          "name": "stdout",
          "text": [
            "Writing counsel.yaml\n"
          ]
        }
      ]
    },
    {
      "cell_type": "code",
      "source": [
        "import yaml\n",
        "\n",
        "yaml_file = \"counsel.yaml\"\n",
        "\n",
        "with open(yaml_file, 'r') as stream:\n",
        "    try:\n",
        "        data = yaml.safe_load(stream)\n",
        "    except yaml.YAMLError as exc:\n",
        "        print(exc)  # Handle potential parsing errors\n",
        "\n",
        "# Print the parsed data\n",
        "print(data)"
      ],
      "metadata": {
        "colab": {
          "base_uri": "https://localhost:8080/"
        },
        "id": "f08UL_o_eMlu",
        "outputId": "6ed1b27c-22d0-453f-c3b8-b938ae7a0bec"
      },
      "execution_count": 3,
      "outputs": [
        {
          "output_type": "stream",
          "name": "stdout",
          "text": [
            "{'base_person': {'name': 'John Doe', 'age': 30}, 'counselor': {'name': 'John Doe', 'age': 30, 'specialization': 'Psychology'}, 'counselee': {'name': 'John Doe', 'age': 30, 'primary_concern': 'Anxiety'}}\n"
          ]
        }
      ]
    },
    {
      "cell_type": "code",
      "source": [
        "def determine_model_name(given_image=None):\n",
        "  if given_image is None:\n",
        "    return \"gemini-pro\"\n",
        "  else:\n",
        "    return \"gemini-pro-vision\"\n",
        "\n",
        "def construct_image_part(given_image):\n",
        "  return {\n",
        "    \"mime_type\": \"image/jpeg\",\n",
        "    \"data\": given_image\n",
        "  }\n",
        "\n",
        "def call_gemini(prompt=\"\", API_KEY=None, given_text=None, given_image=None, generation_config=None, safety_settings=None):\n",
        "  import google.generativeai as genai\n",
        "  genai.configure(api_key=API_KEY)\n",
        "\n",
        "  if generation_config is None:\n",
        "    generation_config = {\n",
        "      \"temperature\": 0.9,\n",
        "      \"top_p\": 1,\n",
        "      \"top_k\": 32,\n",
        "      \"max_output_tokens\": 8192,\n",
        "    }\n",
        "\n",
        "  if safety_settings is None:\n",
        "    safety_settings = [\n",
        "      {\n",
        "        \"category\": \"HARM_CATEGORY_HARASSMENT\",\n",
        "        \"threshold\": \"BLOCK_ONLY_HIGH\"\n",
        "      },\n",
        "      {\n",
        "        \"category\": \"HARM_CATEGORY_HATE_SPEECH\",\n",
        "        \"threshold\": \"BLOCK_ONLY_HIGH\"\n",
        "      },\n",
        "      {\n",
        "        \"category\": \"HARM_CATEGORY_SEXUALLY_EXPLICIT\",\n",
        "        \"threshold\": \"BLOCK_ONLY_HIGH\"\n",
        "      },\n",
        "      {\n",
        "        \"category\": \"HARM_CATEGORY_DANGEROUS_CONTENT\",\n",
        "        \"threshold\": \"BLOCK_ONLY_HIGH\"\n",
        "      },\n",
        "    ]\n",
        "\n",
        "  model_name = determine_model_name(given_image)\n",
        "  model = genai.GenerativeModel(model_name=model_name,\n",
        "                                generation_config=generation_config,\n",
        "                                safety_settings=safety_settings)\n",
        "\n",
        "  USER_PROMPT = prompt\n",
        "  if given_text is not None:\n",
        "    USER_PROMPT = f\"\"\"\n",
        "------------------------------------------------\n",
        "{given_text}\n",
        "\"\"\"\n",
        "  prompt_parts = [USER_PROMPT]\n",
        "  if given_image is not None:\n",
        "    prompt_parts.append(construct_image_part(given_image))\n",
        "\n",
        "  response = model.generate_content(prompt_parts)\n",
        "  return response.text"
      ],
      "metadata": {
        "id": "HVZSzKOaemfu"
      },
      "execution_count": 28,
      "outputs": []
    },
    {
      "cell_type": "code",
      "source": [],
      "metadata": {
        "id": "pgeN8SrNQ68a"
      },
      "execution_count": 28,
      "outputs": []
    },
    {
      "cell_type": "code",
      "source": [],
      "metadata": {
        "id": "8YSINonsQ65N"
      },
      "execution_count": 28,
      "outputs": []
    },
    {
      "cell_type": "code",
      "source": [
        "prompt = \"\"\"\n",
        "The below erDiagram describes the basic setup of a certain scene.\n",
        "\n",
        "Generate possible conversations between a user and an assistant.\n",
        "The conversations should sound natural and logical.\n",
        "The conversations should be occured without exposuring the underlying information of the erDiagram.\n",
        "\n",
        "The user should play the role of \"CUSTOMER\" appeared in the erDiagram.\n",
        "The user should start conversations focused on its role, \"CUSTOMER\".\n",
        "Based on the words that the user say, the assistant gives appropriate, detailed, and long answers.\n",
        "\n",
        "The generated conversations are recorded in a valid JSON as\n",
        "{\"conversations\":[{\"user\": text, \"assistant\": text},...]}.\n",
        "------------------------------\n",
        "erDiagram\n",
        "    CUSTOMER {\n",
        "        string name\n",
        "        string custNumber\n",
        "        string sector\n",
        "    }\n",
        "    ORDER {\n",
        "        int orderNumber\n",
        "        string deliveryAddress\n",
        "    }\n",
        "    LINE-ITEM {\n",
        "        string productCode\n",
        "        int quantity\n",
        "        float pricePerUnit\n",
        "    }\n",
        "    CUSTOMER ||--o{ ORDER : places\n",
        "    ORDER ||--|{ LINE-ITEM : contains\n",
        "\"\"\""
      ],
      "metadata": {
        "id": "N6ylkExjQ6z0"
      },
      "execution_count": 58,
      "outputs": []
    },
    {
      "cell_type": "code",
      "source": [],
      "metadata": {
        "id": "Q8eYFPMIRKEn"
      },
      "execution_count": 58,
      "outputs": []
    },
    {
      "cell_type": "code",
      "source": [
        "test_json = call_gemini(\n",
        "    prompt=prompt,\n",
        "    API_KEY=GEMINI_API_KEY\n",
        ")"
      ],
      "metadata": {
        "id": "OjhoriO7RJ9Z"
      },
      "execution_count": 59,
      "outputs": []
    },
    {
      "cell_type": "code",
      "source": [
        "test_json"
      ],
      "metadata": {
        "colab": {
          "base_uri": "https://localhost:8080/",
          "height": 178
        },
        "id": "_Cko3QIoRxc0",
        "outputId": "db36c4fe-5c5d-4243-e3c4-34201654e841"
      },
      "execution_count": 60,
      "outputs": [
        {
          "output_type": "execute_result",
          "data": {
            "text/plain": [
              "'``` JSON\\n{\\n \"conversations\": [\\n  {\\n   \"user\": \"Hi there, I am new to online shopping. Can you show me how to order?\",\\n   \"assistant\": \"Of course, here are the steps to place a new order: First, you\\'ll need to create a customer account. Once you are registered, you can browse our wide selection of products. When you find an item you wish to purchase, simply add it to your cart. Once your shopping is complete, go to your cart and follow the checkout instructions.\"\\n  },\\n  {\\n   \"user\": \"What payment methods do you accept?\",\\n   \"assistant\": \"We offer a range of safe and secure payment options, including credit and debit cards, online banking, and PayPal. We value the security of your financial information, so we make sure to utilize cutting-edge encryption technology.\"\\n  },\\n  {\\n   \"user\": \"How much does shipping cost?\",\\n   \"assistant\": \"Shipping costs depend on the weight and size of your order, as well as your selected shipping method. We offer regular shipping, which usually takes around 3-5 business days, and express shipping, which takes 1-2 business days. The cost for regular shipping starts at $5, while express shipping costs start at $10. You can see the exact shipping cost during checkout.\"\\n  },\\n  {\\n   \"user\": \"What is your return policy?\",\\n   \"assistant\": \"Our return policy allows you to return items within 30 days of purchase for a full refund. To initiate a return, simply log in to your account, go to your order history, and select the \\'Return\\' option. Please note that original shipping costs are non-refundable. Returned items must be in their original condition.\"\\n  },\\n  {\\n   \"user\": \"I\\'m interested in a product that is currently out of stock. How can I be notified when it\\'s back in stock?\",\\n   \"assistant\": \"You can easily sign up for our email notifications to be informed when a specific product is back in stock. Visit the product page and click on the \\'Notify me when available\\' button. Enter your email address and we\\'ll send you an email as soon as the product is restocked.\"\\n  }\\n ]\\n}\\n```'"
            ],
            "application/vnd.google.colaboratory.intrinsic+json": {
              "type": "string"
            }
          },
          "metadata": {},
          "execution_count": 60
        }
      ]
    },
    {
      "cell_type": "code",
      "source": [
        "import json\n",
        "\n",
        "def find_json_code_snippet(raw_code_snippet):\n",
        "\tjson_parsed_string = None\n",
        "\n",
        "\tjson_start_index = raw_code_snippet.find('{')\n",
        "\tjson_end_index = raw_code_snippet.rfind('}')\n",
        "\n",
        "\tif json_start_index >= 0 and json_end_index >= 0:\n",
        "\t\tjson_code_snippet = raw_code_snippet[json_start_index:json_end_index+1]\n",
        "\t\ttry:\n",
        "\t\t\tjson_parsed_string = json.loads(json_code_snippet, strict=False)\n",
        "\t\texcept:\n",
        "\t\t\traise ValueError('failed to parse string into JSON format')\n",
        "\telse:\n",
        "\t\traise ValueError('No JSON code snippet found in string.')\n",
        "\n",
        "\treturn json_parsed_string\n",
        "\n",
        "def parse_first_json_code_snippet(code_snippet):\n",
        "\tjson_parsed_string = None\n",
        "\n",
        "\tif isinstance(code_snippet, list):\n",
        "\t\tfor code_snippet_piece in code_snippet:\n",
        "\t\t\ttry:\n",
        "\t\t\t\tjson_parsed_string = find_json_code_snippet(code_snippet_piece)\n",
        "\t\t\t\treturn json_parsed_string\n",
        "\t\t\texcept:\n",
        "\t\t\t\tpass\n",
        "\telse:\n",
        "\t\ttry:\n",
        "\t\t\tjson_parsed_string = find_json_code_snippet(code_snippet)\n",
        "\t\texcept Exception as e:\n",
        "\t\t\tprint(e)\n",
        "\t\t\traise ValueError()\n",
        "\n",
        "\treturn json_parsed_string"
      ],
      "metadata": {
        "id": "bbr7PVuYW2sm"
      },
      "execution_count": 62,
      "outputs": []
    },
    {
      "cell_type": "code",
      "source": [
        "test_json = parse_first_json_code_snippet(test_json)"
      ],
      "metadata": {
        "id": "YVK_Mp1KW6KZ"
      },
      "execution_count": 63,
      "outputs": []
    },
    {
      "cell_type": "code",
      "source": [
        "test_json"
      ],
      "metadata": {
        "colab": {
          "base_uri": "https://localhost:8080/"
        },
        "id": "lUavd60MR1yH",
        "outputId": "72cd1952-b8bc-4c96-9ad6-8c4e4b7527d2"
      },
      "execution_count": 65,
      "outputs": [
        {
          "output_type": "execute_result",
          "data": {
            "text/plain": [
              "{'conversations': [{'user': 'Hi there, I am new to online shopping. Can you show me how to order?',\n",
              "   'assistant': \"Of course, here are the steps to place a new order: First, you'll need to create a customer account. Once you are registered, you can browse our wide selection of products. When you find an item you wish to purchase, simply add it to your cart. Once your shopping is complete, go to your cart and follow the checkout instructions.\"},\n",
              "  {'user': 'What payment methods do you accept?',\n",
              "   'assistant': 'We offer a range of safe and secure payment options, including credit and debit cards, online banking, and PayPal. We value the security of your financial information, so we make sure to utilize cutting-edge encryption technology.'},\n",
              "  {'user': 'How much does shipping cost?',\n",
              "   'assistant': 'Shipping costs depend on the weight and size of your order, as well as your selected shipping method. We offer regular shipping, which usually takes around 3-5 business days, and express shipping, which takes 1-2 business days. The cost for regular shipping starts at $5, while express shipping costs start at $10. You can see the exact shipping cost during checkout.'},\n",
              "  {'user': 'What is your return policy?',\n",
              "   'assistant': \"Our return policy allows you to return items within 30 days of purchase for a full refund. To initiate a return, simply log in to your account, go to your order history, and select the 'Return' option. Please note that original shipping costs are non-refundable. Returned items must be in their original condition.\"},\n",
              "  {'user': \"I'm interested in a product that is currently out of stock. How can I be notified when it's back in stock?\",\n",
              "   'assistant': \"You can easily sign up for our email notifications to be informed when a specific product is back in stock. Visit the product page and click on the 'Notify me when available' button. Enter your email address and we'll send you an email as soon as the product is restocked.\"}]}"
            ]
          },
          "metadata": {},
          "execution_count": 65
        }
      ]
    },
    {
      "cell_type": "code",
      "source": [],
      "metadata": {
        "id": "fNFcsOoUSChO"
      },
      "execution_count": null,
      "outputs": []
    },
    {
      "cell_type": "code",
      "source": [
        "prompt = \"\"\"\n",
        "The below erDiagram describes the basic setup of a certain scene.\n",
        "\n",
        "Generate possible conversations between a user and an assistant.\n",
        "The conversations should sound natural and logical.\n",
        "The conversations should be occured without exposuring the underlying information of the erDiagram.\n",
        "\n",
        "The user should play the role of \"COUNSELEE\" appeared in the erDiagram.\n",
        "The user should start conversations focused on its role, \"COUNSELEE\".\n",
        "The assistant should play the role of \"COUNSELOR\" appeared in the erDiagram.\n",
        "The assistant should start conversations focused on its role, \"COUNSELOR\".\n",
        "Based on the words that the user say, the assistant gives appropriate, detailed, and long answers.\n",
        "\n",
        "The generated conversations are recorded in a valid JSON as\n",
        "{\"conversations\":[{\"user\": text, \"assistant\": text},...]}.\n",
        "------------------------------\n",
        "erDiagram\n",
        "    COUNSELOR ||--|{ COUNSELEE : \"provides counseling to\"\n",
        "\n",
        "    %% Comments for relationship attributes\n",
        "    %% Start date: 2024-02-14\n",
        "    %% Frequency: Weekly\n",
        "\"\"\""
      ],
      "metadata": {
        "id": "qfe51SjIXw0A"
      },
      "execution_count": 66,
      "outputs": []
    },
    {
      "cell_type": "code",
      "source": [
        "test_json = call_gemini(\n",
        "    prompt=prompt,\n",
        "    API_KEY=GEMINI_API_KEY\n",
        ")"
      ],
      "metadata": {
        "id": "Kt9oPFHjYCnn"
      },
      "execution_count": 70,
      "outputs": []
    },
    {
      "cell_type": "code",
      "source": [
        "test = parse_first_json_code_snippet(test_json)"
      ],
      "metadata": {
        "id": "Hr9pu9qvYDa8"
      },
      "execution_count": 71,
      "outputs": []
    },
    {
      "cell_type": "code",
      "source": [
        "test"
      ],
      "metadata": {
        "colab": {
          "base_uri": "https://localhost:8080/"
        },
        "id": "-pfdL3HMYGTO",
        "outputId": "ac97480f-5e7b-4a75-9255-711635d2e557"
      },
      "execution_count": 72,
      "outputs": [
        {
          "output_type": "execute_result",
          "data": {
            "text/plain": [
              "{'conversations': [{'user': \"Hi, I'm feeling really down lately. I'm not sure what to do.\",\n",
              "   'assistant': \"I'm sorry to hear that you're feeling down. How long have you been feeling this way?\"},\n",
              "  {'user': \"I've been feeling down for a few weeks now. I'm not sure what caused it.\",\n",
              "   'assistant': \"I understand. Sometimes it's hard to pinpoint the exact cause of our feelings. It's important to know that you're not alone and that there is help available.\"},\n",
              "  {'user': \"I know, but I'm still struggling. I don't know where to turn.\",\n",
              "   'assistant': \"I can help you with that. I'm a counselor, and I'm here to provide support and guidance. We can work together to figure out what's causing your feelings and develop strategies to cope with them.\"},\n",
              "  {'user': 'Thank you. I appreciate your help.',\n",
              "   'assistant': \"You're welcome. I'm here to listen and help you through this.\"},\n",
              "  {'user': \"I'm not sure what to talk about.\",\n",
              "   'assistant': \"That's perfectly fine. We can start by talking about whatever you'd like. There's no pressure to talk about anything you're not comfortable with.\"}]}"
            ]
          },
          "metadata": {},
          "execution_count": 72
        }
      ]
    },
    {
      "cell_type": "code",
      "source": [],
      "metadata": {
        "id": "6SE0NilzYGz7"
      },
      "execution_count": null,
      "outputs": []
    }
  ]
}