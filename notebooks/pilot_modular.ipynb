{
  "nbformat": 4,
  "nbformat_minor": 0,
  "metadata": {
    "colab": {
      "provenance": [],
      "authorship_tag": "ABX9TyNIrfmQaypgjgAdNxaaCR0U",
      "include_colab_link": true
    },
    "kernelspec": {
      "name": "python3",
      "display_name": "Python 3"
    },
    "language_info": {
      "name": "python"
    }
  },
  "cells": [
    {
      "cell_type": "markdown",
      "metadata": {
        "id": "view-in-github",
        "colab_type": "text"
      },
      "source": [
        "<a href=\"https://colab.research.google.com/github/deep-diver/auto-data-fountain/blob/main/notebooks/pilot_modular.ipynb\" target=\"_parent\"><img src=\"https://colab.research.google.com/assets/colab-badge.svg\" alt=\"Open In Colab\"/></a>"
      ]
    },
    {
      "cell_type": "code",
      "execution_count": null,
      "metadata": {
        "id": "CuEhO99-6PPc"
      },
      "outputs": [],
      "source": [
        "!pip install google-generativeai\n",
        "!pip install pyyaml"
      ]
    },
    {
      "cell_type": "code",
      "source": [
        "GEMINI_API_KEY=\"...\""
      ],
      "metadata": {
        "id": "uqCScTCL6QES"
      },
      "execution_count": 3,
      "outputs": []
    },
    {
      "cell_type": "code",
      "source": [
        "import json\n",
        "\n",
        "def find_json_code_snippet(raw_code_snippet):\n",
        "\tjson_parsed_string = None\n",
        "\n",
        "\tjson_start_index = raw_code_snippet.find('{')\n",
        "\tjson_end_index = raw_code_snippet.rfind('}')\n",
        "\n",
        "\tif json_start_index >= 0 and json_end_index >= 0:\n",
        "\t\tjson_code_snippet = raw_code_snippet[json_start_index:json_end_index+1]\n",
        "\t\ttry:\n",
        "\t\t\tjson_parsed_string = json.loads(json_code_snippet, strict=False)\n",
        "\t\texcept:\n",
        "\t\t\traise ValueError('failed to parse string into JSON format')\n",
        "\telse:\n",
        "\t\traise ValueError('No JSON code snippet found in string.')\n",
        "\n",
        "\treturn json_parsed_string\n",
        "\n",
        "def parse_first_json_code_snippet(code_snippet):\n",
        "\tjson_parsed_string = None\n",
        "\n",
        "\tif isinstance(code_snippet, list):\n",
        "\t\tfor code_snippet_piece in code_snippet:\n",
        "\t\t\ttry:\n",
        "\t\t\t\tjson_parsed_string = find_json_code_snippet(code_snippet_piece)\n",
        "\t\t\t\treturn json_parsed_string\n",
        "\t\t\texcept:\n",
        "\t\t\t\tpass\n",
        "\telse:\n",
        "\t\ttry:\n",
        "\t\t\tjson_parsed_string = find_json_code_snippet(code_snippet)\n",
        "\t\texcept Exception as e:\n",
        "\t\t\tprint(e)\n",
        "\t\t\traise ValueError()\n",
        "\n",
        "\treturn json_parsed_string"
      ],
      "metadata": {
        "id": "qCUP1cK66RL0"
      },
      "execution_count": 4,
      "outputs": []
    },
    {
      "cell_type": "code",
      "source": [
        "def determine_model_name(given_image=None):\n",
        "  if given_image is None:\n",
        "    return \"gemini-pro\"\n",
        "  else:\n",
        "    return \"gemini-pro-vision\"\n",
        "\n",
        "def construct_image_part(given_image):\n",
        "  return {\n",
        "    \"mime_type\": \"image/jpeg\",\n",
        "    \"data\": given_image\n",
        "  }\n",
        "\n",
        "def call_gemini(prompt=\"\", API_KEY=None, given_text=None, given_image=None, generation_config=None, safety_settings=None):\n",
        "  import google.generativeai as genai\n",
        "  genai.configure(api_key=API_KEY)\n",
        "\n",
        "  if generation_config is None:\n",
        "    generation_config = {\n",
        "      \"temperature\": 0.9,\n",
        "      \"top_p\": 1,\n",
        "      \"top_k\": 32,\n",
        "      \"max_output_tokens\": 8192,\n",
        "    }\n",
        "\n",
        "  if safety_settings is None:\n",
        "    safety_settings = [\n",
        "      {\n",
        "        \"category\": \"HARM_CATEGORY_HARASSMENT\",\n",
        "        \"threshold\": \"BLOCK_ONLY_HIGH\"\n",
        "      },\n",
        "      {\n",
        "        \"category\": \"HARM_CATEGORY_HATE_SPEECH\",\n",
        "        \"threshold\": \"BLOCK_ONLY_HIGH\"\n",
        "      },\n",
        "      {\n",
        "        \"category\": \"HARM_CATEGORY_SEXUALLY_EXPLICIT\",\n",
        "        \"threshold\": \"BLOCK_ONLY_HIGH\"\n",
        "      },\n",
        "      {\n",
        "        \"category\": \"HARM_CATEGORY_DANGEROUS_CONTENT\",\n",
        "        \"threshold\": \"BLOCK_ONLY_HIGH\"\n",
        "      },\n",
        "    ]\n",
        "\n",
        "  model_name = determine_model_name(given_image)\n",
        "  model = genai.GenerativeModel(model_name=model_name,\n",
        "                                generation_config=generation_config,\n",
        "                                safety_settings=safety_settings)\n",
        "\n",
        "  USER_PROMPT = prompt\n",
        "  if given_text is not None:\n",
        "    USER_PROMPT = f\"\"\"\n",
        "------------------------------------------------\n",
        "{given_text}\n",
        "\"\"\"\n",
        "  prompt_parts = [USER_PROMPT]\n",
        "  if given_image is not None:\n",
        "    prompt_parts.append(construct_image_part(given_image))\n",
        "\n",
        "  response = model.generate_content(prompt_parts)\n",
        "  return response.text"
      ],
      "metadata": {
        "id": "TAhGftn96SHO"
      },
      "execution_count": 5,
      "outputs": []
    },
    {
      "cell_type": "code",
      "source": [
        "!mkdir counsel"
      ],
      "metadata": {
        "id": "p711e4ta8dQf",
        "colab": {
          "base_uri": "https://localhost:8080/"
        },
        "outputId": "586e410f-03ab-47ba-8edd-b606784751a7"
      },
      "execution_count": 6,
      "outputs": [
        {
          "output_type": "stream",
          "name": "stdout",
          "text": [
            "mkdir: cannot create directory ‘counsel’: File exists\n"
          ]
        }
      ]
    },
    {
      "cell_type": "code",
      "source": [
        "%%writefile counsel/diagram.mermaid\n",
        "\n",
        "erDiagram\n",
        "    COUNSELOR ||--|{ COUNSELEE : \"provides counseling to\"\n",
        "\n",
        "    %% Comments for relationship attributes\n",
        "    %% Start date: 2024-02-14\n",
        "    %% Frequency: Weekly\n",
        "    %% Topic: marriage guidance"
      ],
      "metadata": {
        "colab": {
          "base_uri": "https://localhost:8080/"
        },
        "id": "HlfXJM-O-RUx",
        "outputId": "d9a40875-824d-42c5-851f-0b2d4bf60367"
      },
      "execution_count": 7,
      "outputs": [
        {
          "output_type": "stream",
          "name": "stdout",
          "text": [
            "Overwriting counsel/diagram.mermaid\n"
          ]
        }
      ]
    },
    {
      "cell_type": "code",
      "source": [
        "%%writefile counsel/setup.yaml\n",
        "\n",
        "initial_prompt: |\n",
        "  The below erDiagram describes the basic setup of a certain scene.\n",
        "\n",
        "  Generate possible conversations between a user and an assistant.\n",
        "  The conversations should sound natural and logical.\n",
        "  The direction or the style of the conversations should be \"%s\".\n",
        "  The conversations should be occured without exposuring the underlying information of the erDiagram.\n",
        "\n",
        "  The user should play the role of \"%s\" appeared in the erDiagram. The user should focus on the given role.\n",
        "  The assistant should play the role of \"%s\" appeared in the erDiagram. The assistant should focus on the given role.\n",
        "  Based on the words that the user say, the assistant gives appropriate, detailed, and long answers.\n",
        "\n",
        "derivational_prompt: |\n",
        "  The below erDiagram describes the basic setup of a certain scene.\n",
        "\n",
        "  Here is the first few conversations\n",
        "  %s\n",
        "\n",
        "  Generate possible follo-up conversations between a user and an assistant.\n",
        "  The conversations should sound natural and logical.\n",
        "  The direction or the style of the conversations should be \"%s\".\n",
        "  The conversations should be occured without exposuring the underlying information of the erDiagram.\n",
        "\n",
        "  The user should play the role of \"%s\" appeared in the erDiagram. The user should focus on the given role.\n",
        "  The assistant should play the role of \"%s\" appeared in the erDiagram. The assistant should focus on the given role.\n",
        "  Based on the words that the user say, the assistant gives appropriate, detailed, and long answers.\n",
        "\n",
        "output_format: |\n",
        "  The generated conversations are recorded in a valid JSON as\n",
        "  {\"conversations\":[{\"user\": text, \"assistant\": text},...]}.\n",
        "\n",
        "delimiter: \"------------------------------\"\n",
        "\n",
        "user_role: COUNSELEE\n",
        "assistant_role: COUNSELOR\n",
        "\n",
        "seed_evolving_directions:\n",
        "  - in-depth\n",
        "  - general\n",
        "\n",
        "derivational_evolving_directions:\n",
        "  - general"
      ],
      "metadata": {
        "id": "r_ZXY4P48i5L",
        "colab": {
          "base_uri": "https://localhost:8080/"
        },
        "outputId": "15b32d5c-33a1-4109-820e-1a93edf57c9f"
      },
      "execution_count": 8,
      "outputs": [
        {
          "output_type": "stream",
          "name": "stdout",
          "text": [
            "Overwriting counsel/setup.yaml\n"
          ]
        }
      ]
    },
    {
      "cell_type": "code",
      "source": [
        "import os\n",
        "import yaml\n",
        "\n",
        "def get_setup_and_mermaid(folder_path):\n",
        "    setup_yaml_path = os.path.join(folder_path, 'setup.yaml')\n",
        "    mermaid_path = os.path.join(folder_path, 'diagram.mermaid')\n",
        "\n",
        "    if not os.path.isfile(setup_yaml_path):\n",
        "        raise FileNotFoundError(f\"setup.yaml not found in {folder_path}\")\n",
        "\n",
        "    if not os.path.isfile(mermaid_path):\n",
        "        raise FileNotFoundError(f\"diagram.mermaid not found in {folder_path}\")\n",
        "\n",
        "    with open(setup_yaml_path, 'r') as file:\n",
        "      setup = yaml.safe_load(file)\n",
        "\n",
        "    with open(mermaid_path, 'r') as file:\n",
        "      mermaid = file.read()\n",
        "\n",
        "    return setup, mermaid.strip()"
      ],
      "metadata": {
        "id": "cL9Q7PT1_L5l"
      },
      "execution_count": 9,
      "outputs": []
    },
    {
      "cell_type": "code",
      "source": [
        "folder = \"counsel\"\n",
        "\n",
        "setup, mermaid = get_setup_and_mermaid(folder)"
      ],
      "metadata": {
        "id": "04dPKUYo-oUu"
      },
      "execution_count": 10,
      "outputs": []
    },
    {
      "cell_type": "code",
      "source": [
        "def gen_seed(prompt, retry_num=4):\n",
        "  cur_retry = 0\n",
        "  test_json = None\n",
        "  test = None\n",
        "\n",
        "  while test_json is None and \\\n",
        "        test is None and \\\n",
        "        cur_retry <= retry_num:\n",
        "    try:\n",
        "      test_json = call_gemini(\n",
        "        prompt=prompt,\n",
        "        API_KEY=GEMINI_API_KEY\n",
        "      )\n",
        "\n",
        "      test = parse_first_json_code_snippet(test_json)\n",
        "    except:\n",
        "      cur_retry = cur_retry + 1\n",
        "      continue\n",
        "\n",
        "  return test\n",
        "\n",
        "def gen_seeds(setup, mermaid, retry_num=4):\n",
        "  initial_prompt = setup['initial_prompt']\n",
        "  output_format = setup['output_format']\n",
        "  delimiter = setup['delimiter']\n",
        "\n",
        "  user_role = setup['user_role']\n",
        "  assistant_role = setup['assistant_role']\n",
        "\n",
        "  outputs = []\n",
        "  seed_evolving_directions = setup[\"seed_evolving_directions\"]\n",
        "\n",
        "  for evolving_direction in seed_evolving_directions:\n",
        "    prompt = initial_prompt % (evolving_direction, user_role, assistant_role)\n",
        "    prompt = f\"{prompt}\\n{output_format}\\n{delimiter}\\n{mermaid}\"\n",
        "    outputs.append(gen_seed(prompt))\n",
        "\n",
        "  return outputs"
      ],
      "metadata": {
        "id": "K80IH59DA1p4"
      },
      "execution_count": 14,
      "outputs": []
    },
    {
      "cell_type": "code",
      "source": [
        "seeds = gen_seeds(setup, mermaid)"
      ],
      "metadata": {
        "id": "O23_fI1dA8dU"
      },
      "execution_count": 15,
      "outputs": []
    },
    {
      "cell_type": "code",
      "source": [
        "seeds"
      ],
      "metadata": {
        "colab": {
          "base_uri": "https://localhost:8080/"
        },
        "id": "DhO-aNLABCIH",
        "outputId": "269d5e4a-650a-4d07-e9a1-b674b28184eb"
      },
      "execution_count": 16,
      "outputs": [
        {
          "output_type": "execute_result",
          "data": {
            "text/plain": [
              "[{'conversations': [{'user': \"I've been feeling really down lately and just don't know why. I tried talking to my friends, but they don't seem to understand. I don't know what to do.\",\n",
              "    'assistant': \"It's understandable to feel overwhelmed and alone when you're struggling with emotional challenges. Seeking professional help can provide you with the support and guidance you need to navigate these difficulties. I can connect you with a counselor who specializes in helping individuals like you.\"},\n",
              "   {'user': \"I'm going through a divorce and it's been really tough. I don't know how to cope with the stress and anxiety.\",\n",
              "    'assistant': 'Divorce can be an incredibly stressful and emotional experience. Working with a counselor can help you process the complex emotions associated with divorce, develop coping mechanisms, and build resilience. I can help you find a counselor who specializes in divorce and relationship issues.'},\n",
              "   {'user': \"My relationship with my partner has been on the rocks lately. We're constantly arguing and don't seem to be able to resolve our issues. I'm afraid we might end up splitting up.\",\n",
              "    'assistant': 'Relationship difficulties can be incredibly challenging and painful. Speaking with a counselor can help you and your partner identify the root causes of your conflicts, develop healthier communication patterns, and learn strategies for resolving disagreements constructively. I can connect you with a counselor who specializes in couples counseling.'},\n",
              "   {'user': \"I've been struggling with anxiety and depression for years. I've tried different medications and therapies, but nothing seems to work. I'm starting to lose hope.\",\n",
              "    'assistant': \"Struggling with chronic anxiety and depression can be incredibly debilitating. It's important to remember that there is help available. A counselor can work with you to explore the underlying causes of your symptoms, develop coping mechanisms, and create a personalized treatment plan. I can help you find a counselor who specializes in anxiety and depression.\"},\n",
              "   {'user': \"I'm feeling really lost and unsure about my future. I don't know what I want to do with my life or what direction to take.\",\n",
              "    'assistant': 'Feeling uncertain about your future can be both unsettling and overwhelming. Exploring these feelings with a counselor can help you gain clarity, identify your values and priorities, and develop a plan for moving forward. I can connect you with a counselor who specializes in career and life transitions.'}]},\n",
              " {'conversations': [{'user': \"Hi, I'd like to schedule an appointment for marriage guidance.\",\n",
              "    'assistant': \"Alright, let's see what we can do for you. Firstly, could I please have your name and contact information?\"},\n",
              "   {'user': 'My name is Emily Richards, and my phone number is (111) 222-3333.',\n",
              "    'assistant': 'Okay, Ms. Richards, I have you here. When would you like to come in?'},\n",
              "   {'user': \"I'm available on Fridays from 10am to 12pm, or on Saturdays from 1pm to 3pm.\",\n",
              "    'assistant': 'Let me check. It looks like we have an opening on Friday, February 24th at 11am. Would that work for you?'},\n",
              "   {'user': 'Yes, that works perfectly.',\n",
              "    'assistant': \"Great! I've gone ahead and scheduled your appointment. You'll receive a confirmation email shortly. Do you have any questions for me before we end the call?\"},\n",
              "   {'user': \"No, I think I'm all set. Thank you so much for your help.\",\n",
              "    'assistant': \"You're welcome. We look forward to seeing you on February 24th.\"}]}]"
            ]
          },
          "metadata": {},
          "execution_count": 16
        }
      ]
    },
    {
      "cell_type": "code",
      "source": [],
      "metadata": {
        "id": "8x5VFPJyEmok"
      },
      "execution_count": null,
      "outputs": []
    }
  ]
}