{
  "nbformat": 4,
  "nbformat_minor": 0,
  "metadata": {
    "colab": {
      "provenance": [],
      "authorship_tag": "ABX9TyPkOEMhrFTAYi4qU502q1NI",
      "include_colab_link": true
    },
    "kernelspec": {
      "name": "python3",
      "display_name": "Python 3"
    },
    "language_info": {
      "name": "python"
    }
  },
  "cells": [
    {
      "cell_type": "markdown",
      "metadata": {
        "id": "view-in-github",
        "colab_type": "text"
      },
      "source": [
        "<a href=\"https://colab.research.google.com/github/deep-diver/auto-data-fountain/blob/main/notebooks/pilot_derivation.ipynb\" target=\"_parent\"><img src=\"https://colab.research.google.com/assets/colab-badge.svg\" alt=\"Open In Colab\"/></a>"
      ]
    },
    {
      "cell_type": "code",
      "execution_count": null,
      "metadata": {
        "id": "-Y4gm7pXzDvr"
      },
      "outputs": [],
      "source": [
        "!pip install google-generativeai"
      ]
    },
    {
      "cell_type": "code",
      "source": [
        "GEMINI_API_KEY=\"...\""
      ],
      "metadata": {
        "id": "Jgim66N-zMIx"
      },
      "execution_count": 2,
      "outputs": []
    },
    {
      "cell_type": "code",
      "source": [
        "import json\n",
        "\n",
        "def find_json_code_snippet(raw_code_snippet):\n",
        "\tjson_parsed_string = None\n",
        "\n",
        "\tjson_start_index = raw_code_snippet.find('{')\n",
        "\tjson_end_index = raw_code_snippet.rfind('}')\n",
        "\n",
        "\tif json_start_index >= 0 and json_end_index >= 0:\n",
        "\t\tjson_code_snippet = raw_code_snippet[json_start_index:json_end_index+1]\n",
        "\t\ttry:\n",
        "\t\t\tjson_parsed_string = json.loads(json_code_snippet, strict=False)\n",
        "\t\texcept:\n",
        "\t\t\traise ValueError('failed to parse string into JSON format')\n",
        "\telse:\n",
        "\t\traise ValueError('No JSON code snippet found in string.')\n",
        "\n",
        "\treturn json_parsed_string\n",
        "\n",
        "def parse_first_json_code_snippet(code_snippet):\n",
        "\tjson_parsed_string = None\n",
        "\n",
        "\tif isinstance(code_snippet, list):\n",
        "\t\tfor code_snippet_piece in code_snippet:\n",
        "\t\t\ttry:\n",
        "\t\t\t\tjson_parsed_string = find_json_code_snippet(code_snippet_piece)\n",
        "\t\t\t\treturn json_parsed_string\n",
        "\t\t\texcept:\n",
        "\t\t\t\tpass\n",
        "\telse:\n",
        "\t\ttry:\n",
        "\t\t\tjson_parsed_string = find_json_code_snippet(code_snippet)\n",
        "\t\texcept Exception as e:\n",
        "\t\t\tprint(e)\n",
        "\t\t\traise ValueError()\n",
        "\n",
        "\treturn json_parsed_string"
      ],
      "metadata": {
        "id": "WxO7YO5z1sSV"
      },
      "execution_count": 13,
      "outputs": []
    },
    {
      "cell_type": "code",
      "source": [
        "def determine_model_name(given_image=None):\n",
        "  if given_image is None:\n",
        "    return \"gemini-pro\"\n",
        "  else:\n",
        "    return \"gemini-pro-vision\"\n",
        "\n",
        "def construct_image_part(given_image):\n",
        "  return {\n",
        "    \"mime_type\": \"image/jpeg\",\n",
        "    \"data\": given_image\n",
        "  }\n",
        "\n",
        "def call_gemini(prompt=\"\", API_KEY=None, given_text=None, given_image=None, generation_config=None, safety_settings=None):\n",
        "  import google.generativeai as genai\n",
        "  genai.configure(api_key=API_KEY)\n",
        "\n",
        "  if generation_config is None:\n",
        "    generation_config = {\n",
        "      \"temperature\": 0.9,\n",
        "      \"top_p\": 1,\n",
        "      \"top_k\": 32,\n",
        "      \"max_output_tokens\": 8192,\n",
        "    }\n",
        "\n",
        "  if safety_settings is None:\n",
        "    safety_settings = [\n",
        "      {\n",
        "        \"category\": \"HARM_CATEGORY_HARASSMENT\",\n",
        "        \"threshold\": \"BLOCK_ONLY_HIGH\"\n",
        "      },\n",
        "      {\n",
        "        \"category\": \"HARM_CATEGORY_HATE_SPEECH\",\n",
        "        \"threshold\": \"BLOCK_ONLY_HIGH\"\n",
        "      },\n",
        "      {\n",
        "        \"category\": \"HARM_CATEGORY_SEXUALLY_EXPLICIT\",\n",
        "        \"threshold\": \"BLOCK_ONLY_HIGH\"\n",
        "      },\n",
        "      {\n",
        "        \"category\": \"HARM_CATEGORY_DANGEROUS_CONTENT\",\n",
        "        \"threshold\": \"BLOCK_ONLY_HIGH\"\n",
        "      },\n",
        "    ]\n",
        "\n",
        "  model_name = determine_model_name(given_image)\n",
        "  model = genai.GenerativeModel(model_name=model_name,\n",
        "                                generation_config=generation_config,\n",
        "                                safety_settings=safety_settings)\n",
        "\n",
        "  USER_PROMPT = prompt\n",
        "  if given_text is not None:\n",
        "    USER_PROMPT = f\"\"\"\n",
        "------------------------------------------------\n",
        "{given_text}\n",
        "\"\"\"\n",
        "  prompt_parts = [USER_PROMPT]\n",
        "  if given_image is not None:\n",
        "    prompt_parts.append(construct_image_part(given_image))\n",
        "\n",
        "  response = model.generate_content(prompt_parts)\n",
        "  return response.text"
      ],
      "metadata": {
        "id": "mEXr8pMczORB"
      },
      "execution_count": 45,
      "outputs": []
    },
    {
      "cell_type": "code",
      "source": [
        "initial_prompt = \"\"\"\n",
        "The below erDiagram describes the basic setup of a certain scene.\n",
        "\n",
        "Generate possible conversations between a user and an assistant.\n",
        "The conversations should sound natural and logical.\n",
        "The conversations should be occured without exposuring the underlying information of the erDiagram.\n",
        "\n",
        "The user should play the role of \"COUNSELEE\" appeared in the erDiagram.\n",
        "The user should start conversations focused on its role, \"COUNSELEE\".\n",
        "The assistant should play the role of \"COUNSELOR\" appeared in the erDiagram.\n",
        "The assistant should start conversations focused on its role, \"COUNSELOR\".\n",
        "Based on the words that the user say, the assistant gives appropriate, detailed, and long answers.\n",
        "\n",
        "The generated conversations are recorded in a valid JSON as\n",
        "{\"conversations\":[{\"user\": text, \"assistant\": text},...]}.\n",
        "------------------------------\n",
        "erDiagram\n",
        "    COUNSELOR ||--|{ COUNSELEE : \"provides counseling to\"\n",
        "\n",
        "    %% Comments for relationship attributes\n",
        "    %% Start date: 2024-02-14\n",
        "    %% Frequency: Weekly\n",
        "    %% Topic: marriage guidance\n",
        "\"\"\""
      ],
      "metadata": {
        "id": "R6UDsY_gzPex"
      },
      "execution_count": 46,
      "outputs": []
    },
    {
      "cell_type": "code",
      "source": [
        "derived_prompt = \"\"\"\n",
        "The below erDiagram describes the basic setup of a certain scene.\n",
        "\n",
        "Here is the first few conversations\n",
        "%s\n",
        "\n",
        "Generate possible conversations between a user and an assistant after the first few conversations.\n",
        "The conversations should sound natural and logical.\n",
        "The conversations should be occured without exposuring the underlying information of the erDiagram.\n",
        "\n",
        "The user should play the role of \"COUNSELEE\" appeared in the erDiagram.\n",
        "The user should start conversations focused on its role, \"COUNSELEE\".\n",
        "The assistant should play the role of \"COUNSELOR\" appeared in the erDiagram.\n",
        "The assistant should start conversations focused on its role, \"COUNSELOR\".\n",
        "Based on the words that the user say, the assistant gives appropriate, detailed, and long answers.\n",
        "\n",
        "The generated conversations are recorded in a valid JSON as\n",
        "{\"conversations\":[{\"user\": text, \"assistant\": text},...]}.\n",
        "------------------------------\n",
        "erDiagram\n",
        "    COUNSELOR ||--|{ COUNSELEE : \"provides counseling to\"\n",
        "\n",
        "    %% Comments for relationship attributes\n",
        "    %% Start date: 2024-02-14\n",
        "    %% Frequency: Weekly\n",
        "    %% Topic: marriage guidance\n",
        "\"\"\""
      ],
      "metadata": {
        "id": "Qdye_noizctk"
      },
      "execution_count": 47,
      "outputs": []
    },
    {
      "cell_type": "code",
      "source": [
        "retry_num = 4\n",
        "test_json = None\n",
        "test = None"
      ],
      "metadata": {
        "id": "WnmLvld1zU66"
      },
      "execution_count": 56,
      "outputs": []
    },
    {
      "cell_type": "code",
      "source": [
        "cur_retry = 0\n",
        "\n",
        "while test_json is None and cur_retry <= retry_num:\n",
        "  try:\n",
        "    test_json = call_gemini(\n",
        "      prompt=initial_prompt,\n",
        "      API_KEY=GEMINI_API_KEY\n",
        "    )\n",
        "  except ValueError as e:\n",
        "    print(e)\n",
        "    continue\n",
        "\n",
        "  try:\n",
        "    test = parse_first_json_code_snippet(test_json)\n",
        "  except:\n",
        "    continue\n",
        "\n",
        "  cur_retry = cur_retry + 1"
      ],
      "metadata": {
        "id": "5zMYye9I6GC1"
      },
      "execution_count": 57,
      "outputs": []
    },
    {
      "cell_type": "code",
      "source": [
        "test"
      ],
      "metadata": {
        "colab": {
          "base_uri": "https://localhost:8080/"
        },
        "id": "3fw-E41v5rFZ",
        "outputId": "0a8f9ca7-b016-4a28-8c1e-e760aed2fb65"
      },
      "execution_count": 58,
      "outputs": [
        {
          "output_type": "execute_result",
          "data": {
            "text/plain": [
              "{'conversations': [{'user': 'As a client, what kind of assistance do I get from you?',\n",
              "   'assistant': 'As your counselor, I provide you with marriage guidance and counseling services. This includes helping you and your spouse identify the issues that are causing problems in your marriage, developing strategies for resolving those issues, and providing you with the tools and support you need to implement those strategies.'},\n",
              "  {'user': 'What are the benefits of seeking guidance from you?',\n",
              "   'assistant': \"There are many benefits to seeking guidance from a counselor, including: \\n\\n* Improved communication and understanding between you and your spouse\\n* Increased empathy and compassion for each other's needs and perspectives\\n* Enhanced conflict resolution skills\\n* Improved ability to manage difficult emotions and behaviors\\n* Greater resilience in the face of challenges\\n* A stronger and more fulfilling marriage\"},\n",
              "  {'user': 'What are some of the things we will be doing in our sessions?',\n",
              "   'assistant': \"In our sessions, we will work together to:\\n\\n* Identify the strengths and weaknesses of your marriage\\n* Develop strategies for resolving conflicts and disagreements\\n* Improve your communication and listening skills\\n* Build empathy and compassion for each other's needs and perspectives\\n* Enhance your conflict resolution skills\\n* Learn how to manage difficult emotions and behaviors\\n* Develop greater resilience in the face of challenges\"},\n",
              "  {'user': 'How long will the counseling process take?',\n",
              "   'assistant': 'The length of the counseling process varies depending on the specific needs of each couple. However, most couples find that they experience significant improvement within a few months of starting counseling.'},\n",
              "  {'user': 'How much does it cost?',\n",
              "   'assistant': \"The cost of counseling varies depending on the counselor's fees and the length of treatment. However, most couples find that the benefits of counseling far outweigh the costs.\"}]}"
            ]
          },
          "metadata": {},
          "execution_count": 58
        }
      ]
    },
    {
      "cell_type": "code",
      "source": [
        "len(test['conversations'])"
      ],
      "metadata": {
        "colab": {
          "base_uri": "https://localhost:8080/"
        },
        "id": "DfczY9FDEiI4",
        "outputId": "c0cea585-1cfa-439c-c984-3a6f6a384c07"
      },
      "execution_count": 80,
      "outputs": [
        {
          "output_type": "execute_result",
          "data": {
            "text/plain": [
              "5"
            ]
          },
          "metadata": {},
          "execution_count": 80
        }
      ]
    },
    {
      "cell_type": "code",
      "source": [
        "d_factor = 3\n",
        "retry_num = 4\n",
        "\n",
        "results = []\n",
        "base_conversation = {'conversations': []}\n",
        "\n",
        "for conversation in test['conversations']:\n",
        "  base_conversation['conversations'].append(conversation)\n",
        "\n",
        "  for _ in range(d_factor):\n",
        "    generated_conversation = None\n",
        "    generated_conversation_json = None\n",
        "\n",
        "    base_prompt = derived_prompt % json.dumps(base_conversation)\n",
        "\n",
        "    cur_retry = 0\n",
        "\n",
        "    while generated_conversation_json is None and \\\n",
        "          generated_conversation is None and \\\n",
        "          cur_retry <= retry_num:\n",
        "      try:\n",
        "        generated_conversation_json = call_gemini(\n",
        "          prompt=initial_prompt,\n",
        "          API_KEY=GEMINI_API_KEY\n",
        "        )\n",
        "\n",
        "        generated_conversation = parse_first_json_code_snippet(generated_conversation_json)\n",
        "      except:\n",
        "        cur_retry = cur_retry + 1\n",
        "        print(f\"RETRY... {cur_retry}\")\n",
        "        continue\n",
        "\n",
        "    if generated_conversation is not None:\n",
        "      base_conversation_copy = base_conversation.copy()\n",
        "      base_conversation_copy['conversations'] = base_conversation_copy['conversations'] + generated_conversation['conversations']\n",
        "      results.append(base_conversation_copy)\n"
      ],
      "metadata": {
        "colab": {
          "base_uri": "https://localhost:8080/",
          "height": 303
        },
        "id": "2qyawG1X12pZ",
        "outputId": "d6eba84c-0466-488a-a969-5f603a4af8bb"
      },
      "execution_count": 85,
      "outputs": [
        {
          "output_type": "stream",
          "name": "stdout",
          "text": [
            "RETRY... 1\n",
            "RETRY... 1\n",
            "RETRY... 2\n",
            "RETRY... 1\n",
            "failed to parse string into JSON format\n",
            "RETRY... 2\n",
            "RETRY... 1\n",
            "RETRY... 1\n",
            "RETRY... 2\n",
            "RETRY... 1\n",
            "RETRY... 2\n",
            "RETRY... 3\n",
            "failed to parse string into JSON format\n",
            "RETRY... 4\n",
            "RETRY... 1\n",
            "RETRY... 1\n"
          ]
        }
      ]
    },
    {
      "cell_type": "code",
      "source": [
        "len(results)"
      ],
      "metadata": {
        "colab": {
          "base_uri": "https://localhost:8080/"
        },
        "id": "HnIeQrv715kw",
        "outputId": "b6dc6fef-56af-4061-b27d-a6e1e830adab"
      },
      "execution_count": 86,
      "outputs": [
        {
          "output_type": "execute_result",
          "data": {
            "text/plain": [
              "13"
            ]
          },
          "metadata": {},
          "execution_count": 86
        }
      ]
    },
    {
      "cell_type": "code",
      "source": [
        "results[0]"
      ],
      "metadata": {
        "colab": {
          "base_uri": "https://localhost:8080/"
        },
        "id": "BQpt_ZWG3x7F",
        "outputId": "574703e0-9bdd-4ee1-d076-0404242bf768"
      },
      "execution_count": 87,
      "outputs": [
        {
          "output_type": "execute_result",
          "data": {
            "text/plain": [
              "{'conversations': [{'user': 'As a client, what kind of assistance do I get from you?',\n",
              "   'assistant': 'As your counselor, I provide you with marriage guidance and counseling services. This includes helping you and your spouse identify the issues that are causing problems in your marriage, developing strategies for resolving those issues, and providing you with the tools and support you need to implement those strategies.'},\n",
              "  {'user': \"I'm in a difficult relationship, and I think I need counseling. Can you help me?\",\n",
              "   'assistant': 'Of course, I can. I can provide you with a list of licensed counselors in your area who specialize in relationship guidance. Would you like me to do that?'},\n",
              "  {'user': 'Yes, that would be great. Thank you.',\n",
              "   'assistant': \"You're welcome. Let me just gather some information from you so that I can provide you with the best possible list of counselors. What is your ZIP code?\"},\n",
              "  {'user': 'My ZIP code is 92109.',\n",
              "   'assistant': 'What is your current relationship status?'},\n",
              "  {'user': \"I'd prefer not to say.\",\n",
              "   'assistant': \"That's perfectly fine. I can still provide you with a list of counselors who specialize in relationship guidance. However, it may be helpful for you to share your relationship status with the counselor so that they can better understand your needs.\"},\n",
              "  {'user': \"Ok, I'm married.\",\n",
              "   'assistant': 'Thank you for sharing that. How long have you been married?'},\n",
              "  {'user': \"We've been married for 10 years.\",\n",
              "   'assistant': \"And what are some of the challenges you're facing in your marriage?\"},\n",
              "  {'user': \"We're having communication problems, and we're arguing more and more. We're also starting to drift apart.\",\n",
              "   'assistant': \"I understand. Those are all common challenges that many couples face. I'm confident that a counselor can help you and your spouse to improve your communication, resolve your conflicts, and reconnect with each other.\"},\n",
              "  {'user': 'I hope so.',\n",
              "   'assistant': \"I'm sure you will. I'm going to compile a list of counselors in your area who specialize in relationship guidance and email it to you. Please let me know if you have any questions.\"},\n",
              "  {'user': 'Thank you so much for your help. I really appreciate it.',\n",
              "   'assistant': \"You're welcome. I'm happy to help.\"}]}"
            ]
          },
          "metadata": {},
          "execution_count": 87
        }
      ]
    },
    {
      "cell_type": "code",
      "source": [
        "results[1]"
      ],
      "metadata": {
        "colab": {
          "base_uri": "https://localhost:8080/"
        },
        "id": "Y2DWSbFKBBDL",
        "outputId": "3700c48f-d6b7-45cd-f7ed-d2ac48b81141"
      },
      "execution_count": 84,
      "outputs": [
        {
          "output_type": "execute_result",
          "data": {
            "text/plain": [
              "{'conversations': [{'user': 'As a client, what kind of assistance do I get from you?',\n",
              "   'assistant': 'As your counselor, I provide you with marriage guidance and counseling services. This includes helping you and your spouse identify the issues that are causing problems in your marriage, developing strategies for resolving those issues, and providing you with the tools and support you need to implement those strategies.'},\n",
              "  {'user': 'What are the benefits of seeking guidance from you?',\n",
              "   'assistant': \"There are many benefits to seeking guidance from a counselor, including: \\n\\n* Improved communication and understanding between you and your spouse\\n* Increased empathy and compassion for each other's needs and perspectives\\n* Enhanced conflict resolution skills\\n* Improved ability to manage difficult emotions and behaviors\\n* Greater resilience in the face of challenges\\n* A stronger and more fulfilling marriage\"},\n",
              "  {'user': \"I'm feeling overwhelmed by my marriage and I need some guidance. Can you help me find a counselor?\",\n",
              "   'assistant': \"I'd be happy to help you find a counselor who can provide you with the support you need. Can you tell me a little bit more about what you're going through?\"},\n",
              "  {'user': \"I've been married for 10 years and I'm starting to feel like we're drifting apart. We don't communicate well and we're always fighting. I'm worried that we're going to get divorced.\",\n",
              "   'assistant': \"I understand that you're going through a difficult time. It's important to remember that you're not alone and that there are people who can help you. A counselor can help you and your spouse improve your communication and resolve your conflicts. Would you like me to help you find a counselor?\"},\n",
              "  {'user': \"Yes, please. I'd really appreciate it.\",\n",
              "   'assistant': \"I'm glad to hear that. I have a few questions to ask you before I can help you find a counselor. What city and state do you live in?\"},\n",
              "  {'user': 'I live in San Francisco, California.',\n",
              "   'assistant': \"Okay, I'm going to search for counselors in your area. Do you have a preference for the gender of the counselor?\"},\n",
              "  {'user': \"I don't have a preference.\",\n",
              "   'assistant': \"Okay, I'll search for both male and female counselors. Do you have any insurance coverage for mental health services?\"},\n",
              "  {'user': 'Yes, I have insurance through Blue Cross Blue Shield.',\n",
              "   'assistant': \"Great, I'll search for counselors who accept Blue Cross Blue Shield. How soon would you like to start counseling?\"},\n",
              "  {'user': 'As soon as possible.',\n",
              "   'assistant': \"I'll search for counselors who have availability in the next week. What days and times are you available for appointments?\"},\n",
              "  {'user': \"I'm available on Tuesdays and Thursdays after 5pm.\",\n",
              "   'assistant': \"Okay, I'll search for counselors who have availability on Tuesdays and Thursdays after 5pm. Would you prefer to meet with the counselor in person or via videoconferencing?\"},\n",
              "  {'user': \"I'd prefer to meet with the counselor in person.\",\n",
              "   'assistant': \"Okay, I'll search for counselors who offer in-person counseling. Once I've found a few counselors that meet your criteria, I'll send you their contact information so you can schedule an appointment.\"},\n",
              "  {'user': 'Thank you so much for your help. I really appreciate it.',\n",
              "   'assistant': \"You're welcome. I'm glad I could help. Please don't hesitate to reach out to me if you have any other questions.\"}]}"
            ]
          },
          "metadata": {},
          "execution_count": 84
        }
      ]
    },
    {
      "cell_type": "code",
      "source": [],
      "metadata": {
        "id": "82Tt1xJLFZ9U"
      },
      "execution_count": null,
      "outputs": []
    }
  ]
}